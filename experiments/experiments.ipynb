{
 "cells": [
  {
   "cell_type": "markdown",
   "metadata": {},
   "source": [
    "# Эксперименты с алгоритмами\n",
    "\n",
    "Разделим датасет на train/test"
   ]
  },
  {
   "cell_type": "code",
   "execution_count": 3,
   "metadata": {},
   "outputs": [],
   "source": [
    "from sklearn.datasets import fetch_openml\n",
    "from sklearn.model_selection import train_test_split\n",
    "X, y = fetch_openml(\"mnist_784\", return_X_y=True)\n",
    "X_train, X_test, y_train, y_test = train_test_split(X, y, test_size=0.9)"
   ]
  },
  {
   "cell_type": "markdown",
   "metadata": {},
   "source": [
    "## C-PCA"
   ]
  },
  {
   "cell_type": "code",
   "execution_count": 45,
   "metadata": {},
   "outputs": [],
   "source": [
    "from scipy.special import lambertw\n",
    "import numpy as np\n",
    "from sklearn.decomposition import PCA\n",
    "from scipy.spatial import distance\n",
    "from sklearn.neighbors import NearestNeighbors\n",
    "class cPCA:\n",
    "    def __init__(self):\n",
    "        self.dimension_ = -1\n",
    "        self.shape = 0\n",
    "\n",
    "    def mininmum_set_cover(self, data, n_neighbors): # O(n^2*log(n))\n",
    "        n = data.shape[0]\n",
    "        temp = NearestNeighbors(n_neighbors=n_neighbors+1)\n",
    "        temp.fit(data)\n",
    "        temp = temp.kneighbors_graph(data) # CSR matrix\n",
    "        q = np.array(temp.sum(axis=0).astype('int32')).squeeze()\n",
    "        temp = temp.indices.reshape([n, n_neighbors + 1]) # Matrix with indices of neighbors\n",
    "        taken = np.full(n, True)\n",
    "        for i in range(n):\n",
    "            if (q[temp[i]] > 1).all():\n",
    "                q[temp[i]] -= 1\n",
    "                taken[i] = False\n",
    "        return temp[taken]\n",
    "\n",
    "        \n",
    "\n",
    "    def fit(self, data, n_neighbors = 20, alpha = 10, beta = 0.95, P = 0.95, noise = False): # O(n*k + n^2*log(n))\n",
    "        data = np.array(data)\n",
    "        n = data.shape[0]\n",
    "        self.D = distance.cdist(data, data, 'euclidean')\n",
    "        \n",
    "        F = self.mininmum_set_cover(data, n_neighbors)\n",
    "        dims = []\n",
    "\n",
    "        for sub in range(F.shape[0]):\n",
    "            cur_data = np.array(data[F[sub]])\n",
    "            covariance_matrix = np.cov(cur_data.T)\n",
    "            eigen_values, eigen_vectors = np.linalg.eig(covariance_matrix)\n",
    "            eigen_values = list(reversed(sorted(eigen_values)))\n",
    "            if noise:\n",
    "                sum_var = sum(eigen_values)\n",
    "                cur_sum = 0\n",
    "                r = 0\n",
    "                for i in range(data.shape[1] - 1):\n",
    "                    cur_sum += eigen_values[i]\n",
    "                    if cur_sum / sum_var <= P and (cur_sum + eigen_values[i + 1]) / sum_var >= P:\n",
    "                        r = i + 1\n",
    "                        break\n",
    "                if r == 0:\n",
    "                    raise Exception(\"don't find noise\") \n",
    "                sigma = 0; cnt = 0\n",
    "                for i in range(max(r, data.shape[1] - 10), data.shape[1]):\n",
    "                    cnt += 1 \n",
    "                    sigma += eigen_values[i]\n",
    "                sigma /= cnt\n",
    "                eigen_values -= sigma\n",
    "            # criterions\n",
    "            sum_var = sum(eigen_values)\n",
    "            cur_sum = 0\n",
    "            flag = False\n",
    "            for d in range(len(eigen_values) - 1):\n",
    "                cur_sum += eigen_values[d]\n",
    "                if (eigen_values[d] / eigen_values[d + 1] > alpha) or (cur_sum / sum_var > beta): \n",
    "                    flag = True\n",
    "                    dims.append(d + 1)\n",
    "                    break\n",
    "            if not flag:\n",
    "                dims.append(len(eigen_values))\n",
    "        self.dimension_ = np.mean(dims)"
   ]
  },
  {
   "cell_type": "code",
   "execution_count": 55,
   "metadata": {},
   "outputs": [
    {
     "name": "stdout",
     "output_type": "stream",
     "text": [
      "k = 20 finished\n",
      "k = 40 finished\n",
      "k = 60 finished\n",
      "k = 80 finished\n",
      "k = 100 finished\n",
      "k = 120 finished\n",
      "k = 140 finished\n",
      "k = 160 finished\n",
      "k = 180 finished\n",
      "k = 200 finished\n"
     ]
    }
   ],
   "source": [
    "from sklearn.svm import SVC\n",
    "from sklearn.metrics import accuracy_score\n",
    "k_list = np.arange(20, 201, 20)\n",
    "k_train = []\n",
    "k_test = []\n",
    "k_train_trans = []\n",
    "k_test_trans = []\n",
    "for k in k_list:\n",
    "    model = cPCA()\n",
    "    model.fit(X_train, n_neighbors=k)\n",
    "    temp = PCA(n_components=int(np.round(model.dimension_)))\n",
    "    X_train_trans = temp.fit_transform(X_train)\n",
    "    X_test_trans = temp.transform(X_test)\n",
    "    model = SVC()\n",
    "    model.fit(X_train, y_train)\n",
    "    train_ans = model.predict(X_train)\n",
    "    test_ans = model.predict(X_test)\n",
    "    k_train.append(accuracy_score(y_train, train_ans))\n",
    "    k_test.append(accuracy_score(y_test, test_ans))\n",
    "    model.fit(X_train_trans, y_train)\n",
    "    train_ans = model.predict(X_train_trans)\n",
    "    test_ans = model.predict(X_test_trans)\n",
    "    k_train_trans.append(accuracy_score(y_train, train_ans))\n",
    "    k_test_trans.append(accuracy_score(y_test, test_ans))\n",
    "    print(f\"k = {k} finished\")\n",
    "    \n",
    "\n",
    "\n"
   ]
  },
  {
   "cell_type": "code",
   "execution_count": 60,
   "metadata": {},
   "outputs": [
    {
     "name": "stdout",
     "output_type": "stream",
     "text": [
      "k = 20 finished\n",
      "k = 40 finished\n",
      "k = 60 finished\n",
      "k = 80 finished\n",
      "k = 100 finished\n",
      "k = 120 finished\n",
      "k = 140 finished\n",
      "k = 160 finished\n",
      "k = 180 finished\n",
      "k = 200 finished\n"
     ]
    }
   ],
   "source": [
    "dims = []\n",
    "for k in k_list:\n",
    "    model = cPCA()\n",
    "    model.fit(X_train, n_neighbors=k)\n",
    "    dims.append(model.dimension_\n",
    "    )\n",
    "    print(f\"k = {k} finished\")\n",
    "    "
   ]
  },
  {
   "cell_type": "code",
   "execution_count": 59,
   "metadata": {},
   "outputs": [
    {
     "data": {
      "image/png": "[encoded data removed]",
      "text/plain": [
       "<Figure size 432x288 with 1 Axes>"
      ]
     },
     "metadata": {
      "needs_background": "light"
     },
     "output_type": "display_data"
    }
   ],
   "source": [
    "import matplotlib.pyplot as plt\n",
    "plt.title(\"Точность в зависимости от $k$\")\n",
    "plt.xlabel(\"$k$\")\n",
    "plt.ylabel(\"Accuracy\")\n",
    "plt.plot(k_list, k_train, color='#FF0000', label=\"Train unshrinked\")\n",
    "plt.plot(k_list, k_test, color='#0000FF', label=\"Test unshrinked\")\n",
    "plt.plot(k_list, k_test_trans, color='#000088', label=\"Test with cPCA\")\n",
    "plt.plot(k_list, k_train_trans, color='#880000', label=\"Train with cPCA\")\n",
    "plt.legend()\n",
    "plt.show()"
   ]
  },
  {
   "cell_type": "code",
   "execution_count": 61,
   "metadata": {},
   "outputs": [
    {
     "data": {
      "image/png": "[encoded data removed]",
      "text/plain": [
       "<Figure size 432x288 with 1 Axes>"
      ]
     },
     "metadata": {
      "needs_background": "light"
     },
     "output_type": "display_data"
    }
   ],
   "source": [
    "plt.title(\"Предсказанная размерность в зависимости от $k$\")\n",
    "plt.xlabel(\"$k$\")\n",
    "plt.ylabel(\"Размерность\")\n",
    "plt.plot(k_list, dims, color='#FF0000', label=\"Train unshrinked\")\n",
    "plt.show()"
   ]
  },
  {
   "cell_type": "markdown",
   "metadata": {},
   "source": [
    "## FisherS"
   ]
  },
  {
   "cell_type": "code",
   "execution_count": 56,
   "metadata": {},
   "outputs": [],
   "source": [
    "class FisherS:\n",
    "    def __init__(self):\n",
    "        self.dimension_ = -1\n",
    "\n",
    "    def fit(self, X, alpha = 0.8, C = 10):\n",
    "        # centering\n",
    "        X_mean = np.mean(X, axis=0)\n",
    "        X -= X_mean\n",
    "        # apply PCA\n",
    "        pca = PCA()\n",
    "        u = pca.fit_transform(X)\n",
    "        v = pca.components_.T\n",
    "        s = pca.explained_variance_\n",
    "        sc = s / s[0]\n",
    "        ind = np.where(sc > 1 / C)[0]\n",
    "        X = X @ v[:,ind]\n",
    "        # whitening\n",
    "        X = u[:, ind]\n",
    "        st = np.std(X, axis=0, ddof=1)\n",
    "        #project on sphere \n",
    "        st = np.sqrt(np.sum(X**2, axis=1))\n",
    "        st = np.array([st]).T\n",
    "        X = X/st\n",
    "        # Compute the Gram matrix\n",
    "        xy = X @ X.T\n",
    "        dxy = np.diag(xy)\n",
    "        sm = (xy / dxy).T\n",
    "        sm = sm - np.diag(np.diag(sm))\n",
    "        sm = sm > alpha\n",
    "        py = sum(sm.T)\n",
    "        py = py / len(py)\n",
    "        separ_fraction = sum(py == 0) / len(py)\n",
    "        #\n",
    "        py_mean = np.mean(py)\n",
    "        n_alpha = np.nan\n",
    "        if py_mean != 0:\n",
    "            p = py_mean\n",
    "            a2 = alpha ** 2\n",
    "            w = np.log(1 - a2)\n",
    "            n_alpha = lambertw(-(w/(2*np.pi*p*p*a2*(1-a2))))/(-w)\n",
    "        if n_alpha == np.inf:\n",
    "            n_alpha = float('nan')\n",
    "        self.dimension_ = np.real(n_alpha)"
   ]
  },
  {
   "cell_type": "code",
   "execution_count": 62,
   "metadata": {},
   "outputs": [
    {
     "name": "stdout",
     "output_type": "stream",
     "text": [
      "k = 20 finished\n",
      "k = 40 finished\n",
      "k = 60 finished\n",
      "k = 80 finished\n",
      "k = 100 finished\n",
      "k = 120 finished\n",
      "k = 140 finished\n",
      "k = 160 finished\n",
      "k = 180 finished\n",
      "k = 200 finished\n"
     ]
    }
   ],
   "source": [
    "k_train_trans = []\n",
    "k_test_trans = []\n",
    "for k in k_list:\n",
    "    model = FisherS()\n",
    "    model.fit(X_train, C=k)\n",
    "    dims.append(model.dimension_)\n",
    "    temp = PCA(n_components=int(np.round(model.dimension_)))\n",
    "    X_train_trans = temp.fit_transform(X_train)\n",
    "    X_test_trans = temp.transform(X_test)\n",
    "    model = SVC()\n",
    "    model.fit(X_train, y_train)\n",
    "    train_ans = model.predict(X_train)\n",
    "    test_ans = model.predict(X_test)\n",
    "    k_train.append(accuracy_score(y_train, train_ans))\n",
    "    k_test.append(accuracy_score(y_test, test_ans))\n",
    "    model.fit(X_train_trans, y_train)\n",
    "    train_ans = model.predict(X_train_trans)\n",
    "    test_ans = model.predict(X_test_trans)\n",
    "    k_train_trans.append(accuracy_score(y_train, train_ans))\n",
    "    k_test_trans.append(accuracy_score(y_test, test_ans))\n",
    "    print(f\"k = {k} finished\")"
   ]
  },
  {
   "cell_type": "code",
   "execution_count": 65,
   "metadata": {},
   "outputs": [
    {
     "data": {
      "image/png": "[encoded data removed]",
      "text/plain": [
       "<Figure size 432x288 with 1 Axes>"
      ]
     },
     "metadata": {
      "needs_background": "light"
     },
     "output_type": "display_data"
    }
   ],
   "source": [
    "import matplotlib.pyplot as plt\n",
    "plt.title(\"Точность в зависимости от $C$\")\n",
    "plt.xlabel(\"$C$\")\n",
    "plt.ylabel(\"Accuracy\")\n",
    "plt.plot(k_list, k_train[-10:], color='#FF0000', label=\"Train unshrinked\")\n",
    "plt.plot(k_list, k_test[-10:], color='#0000FF', label=\"Test unshrinked\")\n",
    "plt.plot(k_list, k_test_trans[-10:], color='#000088', label=\"Test with FisherS\")\n",
    "plt.plot(k_list, k_train_trans[-10:], color='#880000', label=\"Train with FisherS\")\n",
    "plt.legend()\n",
    "plt.show()"
   ]
  },
  {
   "cell_type": "code",
   "execution_count": 66,
   "metadata": {},
   "outputs": [
    {
     "data": {
      "image/png": "[encoded data removed]",
      "text/plain": [
       "<Figure size 432x288 with 1 Axes>"
      ]
     },
     "metadata": {
      "needs_background": "light"
     },
     "output_type": "display_data"
    }
   ],
   "source": [
    "plt.title(\"Предсказанная размерность в зависимости от $k$\")\n",
    "plt.xlabel(\"$k$\")\n",
    "plt.ylabel(\"Размерность\")\n",
    "plt.plot(k_list, dims[-10:], color='#FF0000', label=\"Train unshrinked\")\n",
    "plt.show()"
   ]
  }
 ],
 "metadata": {
  "kernelspec": {
   "display_name": "Python 3",
   "language": "python",
   "name": "python3"
  },
  "language_info": {
   "codemirror_mode": {
    "name": "ipython",
    "version": 3
   },
   "file_extension": ".py",
   "mimetype": "text/x-python",
   "name": "python",
   "nbconvert_exporter": "python",
   "pygments_lexer": "ipython3",
   "version": "3.8.10 (default, Jun 22 2022, 20:18:18) \n[GCC 9.4.0]"
  },
  "orig_nbformat": 4,
  "vscode": {
   "interpreter": {
    "hash": "916dbcbb3f70747c44a77c7bcd40155683ae19c65e1c03b4aa3499c5328201f1"
   }
  }
 },
 "nbformat": 4,
 "nbformat_minor": 2
}
