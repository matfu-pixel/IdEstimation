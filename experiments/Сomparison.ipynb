{
 "cells": [
  {
   "cell_type": "markdown",
   "id": "871f471a",
   "metadata": {},
   "source": [
    "# Сравнение FisherS и cPCA"
   ]
  },
  {
   "cell_type": "code",
   "execution_count": null,
   "id": "38abfb15",
   "metadata": {},
   "outputs": [],
   "source": [
    "!pip3 install scikit-dimension"
   ]
  },
  {
   "cell_type": "code",
   "execution_count": 1,
   "id": "685e1bb1",
   "metadata": {},
   "outputs": [],
   "source": [
    "import numpy as np\n",
    "import skdim \n",
    "from matplotlib import pyplot as plt\n",
    "import estimators"
   ]
  },
  {
   "cell_type": "code",
   "execution_count": 48,
   "id": "c15f4fc8",
   "metadata": {},
   "outputs": [],
   "source": [
    "def FisherS_n(data):\n",
    "    n = np.zeros(20)\n",
    "    al = np.zeros(20)\n",
    "    count = 0\n",
    "    for alpha in np.linspace(0.1, 1, 20):\n",
    "        fisherS = estimators.FisherS()\n",
    "        fisherS.fit(data, alpha=alpha)\n",
    "        n[count] = fisherS.dimension_\n",
    "        al[count] = alpha\n",
    "        count += 1\n",
    "    n[n == np.inf] = float('nan')\n",
    "    inds = np.where(~np.isnan(n))[0]\n",
    "    alpha_max = max(al[inds])\n",
    "    alpha_ref = alpha_max * 0.9\n",
    "    k = np.where(abs(al[inds]-alpha_ref)== min(abs(al-alpha_ref)))[0]\n",
    "    alfa_single_estimate = al[inds[k]]\n",
    "    n_single_estimate = n[inds[k]]\n",
    "    \n",
    "    return n_single_estimate[0]\n",
    "\n",
    "def cPCA_n(data):\n",
    "    mx = 0\n",
    "    for k in np.linspace(20, 200, 10):\n",
    "        cpca = estimators.cPCA()\n",
    "        cpca.fit(data, noise=True, n_neighbors=int(k))\n",
    "        mx = max(mx, cpca.dimension_)\n",
    "    return mx"
   ]
  },
  {
   "cell_type": "code",
   "execution_count": 47,
   "id": "56e23729",
   "metadata": {},
   "outputs": [
    {
     "data": {
      "text/html": [
       "<div>\n",
       "<style scoped>\n",
       "    .dataframe tbody tr th:only-of-type {\n",
       "        vertical-align: middle;\n",
       "    }\n",
       "\n",
       "    .dataframe tbody tr th {\n",
       "        vertical-align: top;\n",
       "    }\n",
       "\n",
       "    .dataframe thead th {\n",
       "        text-align: right;\n",
       "    }\n",
       "</style>\n",
       "<table border=\"1\" class=\"dataframe\">\n",
       "  <thead>\n",
       "    <tr style=\"text-align: right;\">\n",
       "      <th></th>\n",
       "      <th>Intrinsic Dimension</th>\n",
       "      <th>Number of variables</th>\n",
       "      <th>Description</th>\n",
       "    </tr>\n",
       "  </thead>\n",
       "  <tbody>\n",
       "    <tr>\n",
       "      <th>M1_Sphere</th>\n",
       "      <td>10</td>\n",
       "      <td>11</td>\n",
       "      <td>10D sphere linearly embedded</td>\n",
       "    </tr>\n",
       "    <tr>\n",
       "      <th>M2_Affine_3to5</th>\n",
       "      <td>3</td>\n",
       "      <td>5</td>\n",
       "      <td>Affine space</td>\n",
       "    </tr>\n",
       "    <tr>\n",
       "      <th>M3_Nonlinear_4to6</th>\n",
       "      <td>4</td>\n",
       "      <td>6</td>\n",
       "      <td>Concentrated figure, mistakable with a 3D one</td>\n",
       "    </tr>\n",
       "    <tr>\n",
       "      <th>M4_Nonlinear</th>\n",
       "      <td>4</td>\n",
       "      <td>8</td>\n",
       "      <td>Nonlinear manifold</td>\n",
       "    </tr>\n",
       "    <tr>\n",
       "      <th>M5a_Helix1d</th>\n",
       "      <td>1</td>\n",
       "      <td>3</td>\n",
       "      <td>1D helix</td>\n",
       "    </tr>\n",
       "    <tr>\n",
       "      <th>M5b_Helix2d</th>\n",
       "      <td>2</td>\n",
       "      <td>3</td>\n",
       "      <td>2D helix</td>\n",
       "    </tr>\n",
       "    <tr>\n",
       "      <th>M6_Nonlinear</th>\n",
       "      <td>6</td>\n",
       "      <td>36</td>\n",
       "      <td>Nonlinear manifold</td>\n",
       "    </tr>\n",
       "    <tr>\n",
       "      <th>M7_Roll</th>\n",
       "      <td>2</td>\n",
       "      <td>3</td>\n",
       "      <td>Swiss Roll</td>\n",
       "    </tr>\n",
       "    <tr>\n",
       "      <th>M8_Nonlinear</th>\n",
       "      <td>12</td>\n",
       "      <td>72</td>\n",
       "      <td>Nonlinear (highly curved) manifold</td>\n",
       "    </tr>\n",
       "    <tr>\n",
       "      <th>M9_Affine</th>\n",
       "      <td>20</td>\n",
       "      <td>20</td>\n",
       "      <td>Affine space</td>\n",
       "    </tr>\n",
       "    <tr>\n",
       "      <th>M10a_Cubic</th>\n",
       "      <td>10</td>\n",
       "      <td>11</td>\n",
       "      <td>10D hypercube</td>\n",
       "    </tr>\n",
       "    <tr>\n",
       "      <th>M10b_Cubic</th>\n",
       "      <td>17</td>\n",
       "      <td>18</td>\n",
       "      <td>17D hypercube</td>\n",
       "    </tr>\n",
       "    <tr>\n",
       "      <th>M10c_Cubic</th>\n",
       "      <td>24</td>\n",
       "      <td>25</td>\n",
       "      <td>24D hypercube</td>\n",
       "    </tr>\n",
       "    <tr>\n",
       "      <th>M10d_Cubic</th>\n",
       "      <td>70</td>\n",
       "      <td>71</td>\n",
       "      <td>70D hypercube</td>\n",
       "    </tr>\n",
       "    <tr>\n",
       "      <th>M11_Moebius</th>\n",
       "      <td>2</td>\n",
       "      <td>3</td>\n",
       "      <td>Möebius band 10-times twisted</td>\n",
       "    </tr>\n",
       "    <tr>\n",
       "      <th>M12_Norm</th>\n",
       "      <td>20</td>\n",
       "      <td>20</td>\n",
       "      <td>Isotropic multivariate Gaussian</td>\n",
       "    </tr>\n",
       "    <tr>\n",
       "      <th>M13a_Scurve</th>\n",
       "      <td>2</td>\n",
       "      <td>3</td>\n",
       "      <td>2D S-curve</td>\n",
       "    </tr>\n",
       "    <tr>\n",
       "      <th>M13b_Spiral</th>\n",
       "      <td>1</td>\n",
       "      <td>13</td>\n",
       "      <td>1D helix curve</td>\n",
       "    </tr>\n",
       "    <tr>\n",
       "      <th>Mbeta</th>\n",
       "      <td>10</td>\n",
       "      <td>40</td>\n",
       "      <td>Manifold generated with a smooth nonuniform pd...</td>\n",
       "    </tr>\n",
       "    <tr>\n",
       "      <th>Mn1_Nonlinear</th>\n",
       "      <td>18</td>\n",
       "      <td>72</td>\n",
       "      <td>Nonlinearly embedded manifold of high ID (see ...</td>\n",
       "    </tr>\n",
       "    <tr>\n",
       "      <th>Mn2_Nonlinear</th>\n",
       "      <td>24</td>\n",
       "      <td>96</td>\n",
       "      <td>Nonlinearly embedded manifold of high ID (see ...</td>\n",
       "    </tr>\n",
       "    <tr>\n",
       "      <th>Mp1_Paraboloid</th>\n",
       "      <td>3</td>\n",
       "      <td>12</td>\n",
       "      <td>3D paraboloid, nonlinearly embedded in (3(3+1)...</td>\n",
       "    </tr>\n",
       "    <tr>\n",
       "      <th>Mp2_Paraboloid</th>\n",
       "      <td>6</td>\n",
       "      <td>21</td>\n",
       "      <td>6D paraboloid, nonlinearly embedded in (3*(6+1...</td>\n",
       "    </tr>\n",
       "    <tr>\n",
       "      <th>Mp3_Paraboloid</th>\n",
       "      <td>9</td>\n",
       "      <td>30</td>\n",
       "      <td>9D paraboloid, nonlinearly embedded in (3*(9+1...</td>\n",
       "    </tr>\n",
       "  </tbody>\n",
       "</table>\n",
       "</div>"
      ],
      "text/plain": [
       "                  Intrinsic Dimension Number of variables  \\\n",
       "M1_Sphere                          10                  11   \n",
       "M2_Affine_3to5                      3                   5   \n",
       "M3_Nonlinear_4to6                   4                   6   \n",
       "M4_Nonlinear                        4                   8   \n",
       "M5a_Helix1d                         1                   3   \n",
       "M5b_Helix2d                         2                   3   \n",
       "M6_Nonlinear                        6                  36   \n",
       "M7_Roll                             2                   3   \n",
       "M8_Nonlinear                       12                  72   \n",
       "M9_Affine                          20                  20   \n",
       "M10a_Cubic                         10                  11   \n",
       "M10b_Cubic                         17                  18   \n",
       "M10c_Cubic                         24                  25   \n",
       "M10d_Cubic                         70                  71   \n",
       "M11_Moebius                         2                   3   \n",
       "M12_Norm                           20                  20   \n",
       "M13a_Scurve                         2                   3   \n",
       "M13b_Spiral                         1                  13   \n",
       "Mbeta                              10                  40   \n",
       "Mn1_Nonlinear                      18                  72   \n",
       "Mn2_Nonlinear                      24                  96   \n",
       "Mp1_Paraboloid                      3                  12   \n",
       "Mp2_Paraboloid                      6                  21   \n",
       "Mp3_Paraboloid                      9                  30   \n",
       "\n",
       "                                                         Description  \n",
       "M1_Sphere                               10D sphere linearly embedded  \n",
       "M2_Affine_3to5                                          Affine space  \n",
       "M3_Nonlinear_4to6      Concentrated figure, mistakable with a 3D one  \n",
       "M4_Nonlinear                                      Nonlinear manifold  \n",
       "M5a_Helix1d                                                 1D helix  \n",
       "M5b_Helix2d                                                 2D helix  \n",
       "M6_Nonlinear                                      Nonlinear manifold  \n",
       "M7_Roll                                                   Swiss Roll  \n",
       "M8_Nonlinear                      Nonlinear (highly curved) manifold  \n",
       "M9_Affine                                               Affine space  \n",
       "M10a_Cubic                                             10D hypercube  \n",
       "M10b_Cubic                                             17D hypercube  \n",
       "M10c_Cubic                                             24D hypercube  \n",
       "M10d_Cubic                                             70D hypercube  \n",
       "M11_Moebius                            Möebius band 10-times twisted  \n",
       "M12_Norm                             Isotropic multivariate Gaussian  \n",
       "M13a_Scurve                                               2D S-curve  \n",
       "M13b_Spiral                                           1D helix curve  \n",
       "Mbeta              Manifold generated with a smooth nonuniform pd...  \n",
       "Mn1_Nonlinear      Nonlinearly embedded manifold of high ID (see ...  \n",
       "Mn2_Nonlinear      Nonlinearly embedded manifold of high ID (see ...  \n",
       "Mp1_Paraboloid     3D paraboloid, nonlinearly embedded in (3(3+1)...  \n",
       "Mp2_Paraboloid     6D paraboloid, nonlinearly embedded in (3*(6+1...  \n",
       "Mp3_Paraboloid     9D paraboloid, nonlinearly embedded in (3*(9+1...  "
      ]
     },
     "execution_count": 47,
     "metadata": {},
     "output_type": "execute_result"
    }
   ],
   "source": [
    "benchmark = skdim.datasets.BenchmarkManifolds(random_state=0)\n",
    "dict_data = benchmark.generate()\n",
    "truth = benchmark.truth\n",
    "datasets = ['M1_Sphere','M2_Affine_3to5','M3_Nonlinear_4to6','M4_Nonlinear','M5a_Helix1d','M5b_Helix2d','M6_Nonlinear','M7_Roll','M8_Nonlinear','M9_Affine','M10a_Cubic','M10b_Cubic','M10c_Cubic','M10d_Cubic','M11_Moebius','M12_Norm','M13a_Scurve','M13b_Spiral','Mbeta','Mn1_Nonlinear','Mn2_Nonlinear','Mp1_Paraboloid','Mp2_Paraboloid','Mp3_Paraboloid']\n",
    "truth"
   ]
  },
  {
   "cell_type": "markdown",
   "id": "2f004879",
   "metadata": {},
   "source": [
    "### Тестирование на данных без шума"
   ]
  },
  {
   "cell_type": "code",
   "execution_count": null,
   "id": "de6df6fa",
   "metadata": {},
   "outputs": [],
   "source": [
    "ans = []\n",
    "for name in datasets[-1:]:\n",
    "    cur = []\n",
    "    cur.append(name)\n",
    "    cur.append(truth['Intrinsic Dimension'][name])\n",
    "    cur.append(truth['Number of variables'][name])\n",
    "    cur.append(truth['Description'][name])\n",
    "    n1 = FisherS_n(dict_data[name])\n",
    "    n2 = cPCA_n(dict_data[name])\n",
    "    cur.append(n1)\n",
    "    cur.append(n2)\n",
    "    print(' ', end='')\n",
    "    print(truth['Intrinsic Dimension'][name], n1, n2)\n",
    "    ans.append(cur)"
   ]
  },
  {
   "cell_type": "code",
   "execution_count": 59,
   "id": "55fd76e1",
   "metadata": {},
   "outputs": [],
   "source": [
    "for it in ans:\n",
    "    full_ans.append(it)"
   ]
  },
  {
   "cell_type": "code",
   "execution_count": 64,
   "id": "7a1f0e5f",
   "metadata": {},
   "outputs": [
    {
     "data": {
      "text/plain": [
       "[['M1_Sphere',\n",
       "  10,\n",
       "  11,\n",
       "  '10D sphere linearly embedded',\n",
       "  11.012724866466037,\n",
       "  8.951219512195122],\n",
       " ['M2_Affine_3to5', 3, 5, 'Affine space', 2.6684403344421574, 2.0],\n",
       " ['M3_Nonlinear_4to6',\n",
       "  4,\n",
       "  6,\n",
       "  'Concentrated figure, mistakable with a 3D one',\n",
       "  2.827756360419468,\n",
       "  3.5476190476190474],\n",
       " ['M4_Nonlinear',\n",
       "  4,\n",
       "  8,\n",
       "  'Nonlinear manifold',\n",
       "  5.917228355465528,\n",
       "  5.0476190476190474],\n",
       " ['M5b_Helix2d', 2, 3, '2D helix', 2.685367544867946, 2.0],\n",
       " ['M6_Nonlinear',\n",
       "  6,\n",
       "  36,\n",
       "  'Nonlinear manifold',\n",
       "  8.563358568964365,\n",
       "  10.31578947368421],\n",
       " ['M7_Roll', 2, 3, 'Swiss Roll', 2.8918529551551084, 1.6666666666666667],\n",
       " ['M8_Nonlinear',\n",
       "  12,\n",
       "  72,\n",
       "  'Nonlinear (highly curved) manifold',\n",
       "  17.86258345351405,\n",
       "  20.988235294117647],\n",
       " ['M9_Affine', 20, 20, 'Affine space', 18.652370706426296, 14.919540229885058],\n",
       " ['M10a_Cubic', 10, 11, '10D hypercube', 10.374142520010693, 8.45],\n",
       " ['M10b_Cubic', 17, 18, '17D hypercube', 16.97885664535799, 13.63013698630137],\n",
       " ['M10c_Cubic',\n",
       "  24,\n",
       "  25,\n",
       "  '24D hypercube',\n",
       "  23.460859707054713,\n",
       "  18.86904761904762],\n",
       " ['M10d_Cubic',\n",
       "  70,\n",
       "  71,\n",
       "  '70D hypercube',\n",
       "  69.42138224513377,\n",
       "  48.656565656565654],\n",
       " ['M11_Moebius',\n",
       "  2,\n",
       "  3,\n",
       "  'Möebius band 10-times twisted',\n",
       "  1.9824294919601178,\n",
       "  2.0],\n",
       " ['M12_Norm',\n",
       "  20,\n",
       "  20,\n",
       "  'Isotropic multivariate Gaussian',\n",
       "  19.969978383816322,\n",
       "  15.017094017094017],\n",
       " ['M13a_Scurve', 2, 3, '2D S-curve', 2.4156516698132053, 1.0],\n",
       " ['Mbeta',\n",
       "  10,\n",
       "  40,\n",
       "  'Manifold generated with a smooth nonuniform pdf (see paper for description)',\n",
       "  5.341125763592252,\n",
       "  9.324324324324325],\n",
       " ['Mn1_Nonlinear',\n",
       "  18,\n",
       "  72,\n",
       "  'Nonlinearly embedded manifold of high ID (see paper for description)',\n",
       "  16.653707244933646,\n",
       "  18.0],\n",
       " ['Mn2_Nonlinear',\n",
       "  24,\n",
       "  96,\n",
       "  'Nonlinearly embedded manifold of high ID (see paper for description)',\n",
       "  22.18120201385295,\n",
       "  24.0],\n",
       " ['Mp1_Paraboloid',\n",
       "  3,\n",
       "  12,\n",
       "  '3D paraboloid, nonlinearly embedded in (3(3+1))D space, according to a multivariate Burr distribution (alpha=1)',\n",
       "  0.9153189211163422,\n",
       "  2.0]]"
      ]
     },
     "execution_count": 64,
     "metadata": {},
     "output_type": "execute_result"
    }
   ],
   "source": [
    "full_ans"
   ]
  },
  {
   "cell_type": "code",
   "execution_count": 73,
   "id": "b3ed01f8",
   "metadata": {},
   "outputs": [
    {
     "name": "stdout",
     "output_type": "stream",
     "text": [
      "M1_Sphere & 2500 & 10 & 11 & 11.01 & 8.95\\\\\n",
      "M2_Affine_3to5 & 2500 & 3 & 5 & 2.67 & 2.0\\\\\n",
      "M3_Nonlinear_4to6 & 2500 & 4 & 6 & 2.83 & 3.55\\\\\n",
      "M4_Nonlinear & 2500 & 4 & 8 & 5.92 & 5.05\\\\\n",
      "M5b_Helix2d & 2500 & 2 & 3 & 2.69 & 2.0\\\\\n",
      "M6_Nonlinear & 2500 & 6 & 36 & 8.56 & 10.32\\\\\n",
      "M7_Roll & 2500 & 2 & 3 & 2.89 & 1.67\\\\\n",
      "M8_Nonlinear & 2500 & 12 & 72 & 17.86 & 20.99\\\\\n",
      "M9_Affine & 2500 & 20 & 20 & 18.65 & 14.92\\\\\n",
      "M10a_Cubic & 2500 & 10 & 11 & 10.37 & 8.45\\\\\n",
      "M10b_Cubic & 2500 & 17 & 18 & 16.98 & 13.63\\\\\n",
      "M10c_Cubic & 2500 & 24 & 25 & 23.46 & 18.87\\\\\n",
      "M10d_Cubic & 2500 & 70 & 71 & 69.42 & 48.66\\\\\n",
      "M11_Moebius & 2500 & 2 & 3 & 1.98 & 2.0\\\\\n",
      "M12_Norm & 2500 & 20 & 20 & 19.97 & 15.02\\\\\n",
      "M13a_Scurve & 2500 & 2 & 3 & 2.42 & 1.0\\\\\n",
      "Mbeta & 2500 & 10 & 40 & 5.34 & 9.32\\\\\n",
      "Mn1_Nonlinear & 2500 & 18 & 72 & 16.65 & 18.0\\\\\n",
      "Mn2_Nonlinear & 2500 & 24 & 96 & 22.18 & 24.0\\\\\n",
      "Mp1_Paraboloid & 2500 & 3 & 12 & 0.92 & 2.0\\\\\n"
     ]
    }
   ],
   "source": [
    "for it in full_ans:\n",
    "    print(it[0], len(dict_data[it[0]]), it[1], it[2], round(it[4], 2), round(it[5], 2), sep=\" & \", end=\"\\\\\\\\\\n\")"
   ]
  },
  {
   "cell_type": "markdown",
   "id": "f8f3ce3b",
   "metadata": {},
   "source": [
    "### Считаем Mean%error для данных без шума "
   ]
  },
  {
   "cell_type": "code",
   "execution_count": 74,
   "id": "2d7d5ec5",
   "metadata": {},
   "outputs": [
    {
     "name": "stdout",
     "output_type": "stream",
     "text": [
      "sumCPCA =  47.00835783658234\n",
      "sumFISHERS =  35.19803769417695\n"
     ]
    }
   ],
   "source": [
    "sumCPCA = 0\n",
    "sumFISHERS = 0\n",
    "for it in full_ans:\n",
    "    sumCPCA += abs(it[2] - it[5]) / it[2]\n",
    "    sumFISHERS += abs(it[2] - it[4]) / it[2]\n",
    "sumCPCA *= (100 / len(full_ans))\n",
    "sumFISHERS *= (100 / len(full_ans))\n",
    "print(\"sumCPCA = \", sumCPCA)\n",
    "print(\"sumFISHERS = \", sumFISHERS)"
   ]
  },
  {
   "cell_type": "markdown",
   "id": "8a98f4ca",
   "metadata": {},
   "source": [
    "### Считаем для выборок со слабым шумом $\\sigma = 0.05$"
   ]
  },
  {
   "cell_type": "code",
   "execution_count": 75,
   "id": "86b8ec21",
   "metadata": {},
   "outputs": [],
   "source": [
    "benchmark = skdim.datasets.BenchmarkManifolds(random_state=0)\n",
    "dict_data = benchmark.generate(noise=0.05)\n",
    "names = []\n",
    "for it in full_ans:\n",
    "    names.append(it[0])"
   ]
  },
  {
   "cell_type": "code",
   "execution_count": 76,
   "id": "e2e146d8",
   "metadata": {},
   "outputs": [
    {
     "name": "stdout",
     "output_type": "stream",
     "text": [
      "1111111111 10 10.980291570559249 9.0\n",
      "1111111111 3 2.6681642717173535 2.0\n",
      "1111111111 4 2.829055638736338 3.5813953488372094\n",
      "1111111111 4 5.92266258779184 5.048780487804878\n",
      "1111111111 2 2.685660281042703 2.0\n",
      "1111111111 6 8.570221655464495 10.345454545454546\n",
      "1111111111 2 2.8916759522632285 1.6666666666666667\n",
      "1111111111 12 17.94523123847294 21.0\n",
      "1111111111 20 18.677908174152037 14.939759036144578\n",
      "1111111111 10 10.353560669269397 8.394366197183098\n",
      "1111111111 17 17.008050149643285 13.569444444444445\n",
      "1111111111 24 23.507807211704545 18.88888888888889\n",
      "1111111111 70 69.42138224513377 48.70967741935484\n",
      "1111111111 2 1.9825919043923022 2.0\n",
      "1111111111 20 19.939813290164143 14.991596638655462\n",
      "1111111111 2 2.4161455675506183 1.0\n",
      "1111111111 10 5.365715860642667 9.564516129032258\n",
      "1111111111 18 16.574152766103175 18.0\n",
      "1111111111 24 22.2828496060299 24.0\n",
      "1111111111 3 0.9150987306409786 2.540084388185654\n"
     ]
    }
   ],
   "source": [
    "ans = []\n",
    "for name in names:\n",
    "    cur = []\n",
    "    cur.append(name)\n",
    "    cur.append(truth['Intrinsic Dimension'][name])\n",
    "    cur.append(truth['Number of variables'][name])\n",
    "    cur.append(truth['Description'][name])\n",
    "    n1 = FisherS_n(dict_data[name])\n",
    "    n2 = cPCA_n(dict_data[name])\n",
    "    cur.append(n1)\n",
    "    cur.append(n2)\n",
    "    print(' ', end='')\n",
    "    print(truth['Intrinsic Dimension'][name], n1, n2)\n",
    "    ans.append(cur)"
   ]
  },
  {
   "cell_type": "code",
   "execution_count": 77,
   "id": "5fec7812",
   "metadata": {},
   "outputs": [
    {
     "name": "stdout",
     "output_type": "stream",
     "text": [
      "M1_Sphere & 2500 & 10 & 11 & 10.98 & 9.0\\\\\n",
      "M2_Affine_3to5 & 2500 & 3 & 5 & 2.67 & 2.0\\\\\n",
      "M3_Nonlinear_4to6 & 2500 & 4 & 6 & 2.83 & 3.58\\\\\n",
      "M4_Nonlinear & 2500 & 4 & 8 & 5.92 & 5.05\\\\\n",
      "M5b_Helix2d & 2500 & 2 & 3 & 2.69 & 2.0\\\\\n",
      "M6_Nonlinear & 2500 & 6 & 36 & 8.57 & 10.35\\\\\n",
      "M7_Roll & 2500 & 2 & 3 & 2.89 & 1.67\\\\\n",
      "M8_Nonlinear & 2500 & 12 & 72 & 17.95 & 21.0\\\\\n",
      "M9_Affine & 2500 & 20 & 20 & 18.68 & 14.94\\\\\n",
      "M10a_Cubic & 2500 & 10 & 11 & 10.35 & 8.39\\\\\n",
      "M10b_Cubic & 2500 & 17 & 18 & 17.01 & 13.57\\\\\n",
      "M10c_Cubic & 2500 & 24 & 25 & 23.51 & 18.89\\\\\n",
      "M10d_Cubic & 2500 & 70 & 71 & 69.42 & 48.71\\\\\n",
      "M11_Moebius & 2500 & 2 & 3 & 1.98 & 2.0\\\\\n",
      "M12_Norm & 2500 & 20 & 20 & 19.94 & 14.99\\\\\n",
      "M13a_Scurve & 2500 & 2 & 3 & 2.42 & 1.0\\\\\n",
      "Mbeta & 2500 & 10 & 40 & 5.37 & 9.56\\\\\n",
      "Mn1_Nonlinear & 2500 & 18 & 72 & 16.57 & 18.0\\\\\n",
      "Mn2_Nonlinear & 2500 & 24 & 96 & 22.28 & 24.0\\\\\n",
      "Mp1_Paraboloid & 2500 & 3 & 12 & 0.92 & 2.54\\\\\n"
     ]
    }
   ],
   "source": [
    "for it in ans:\n",
    "    print(it[0], len(dict_data[it[0]]), it[1], it[2], round(it[4], 2), round(it[5], 2), sep=\" & \", end=\"\\\\\\\\\\n\")"
   ]
  },
  {
   "cell_type": "markdown",
   "id": "35d09736",
   "metadata": {},
   "source": [
    "### Считаем Mean%error для данных со слабым шумом"
   ]
  },
  {
   "cell_type": "code",
   "execution_count": 78,
   "id": "2ebf0fde",
   "metadata": {},
   "outputs": [
    {
     "name": "stdout",
     "output_type": "stream",
     "text": [
      "sumCPCA =  46.73307404581416\n",
      "sumFISHERS =  35.17929154208292\n"
     ]
    }
   ],
   "source": [
    "sumCPCA = 0\n",
    "sumFISHERS = 0\n",
    "for it in ans:\n",
    "    sumCPCA += abs(it[2] - it[5]) / it[2]\n",
    "    sumFISHERS += abs(it[2] - it[4]) / it[2]\n",
    "sumCPCA *= (100 / len(full_ans))\n",
    "sumFISHERS *= (100 / len(full_ans))\n",
    "print(\"sumCPCA = \", sumCPCA)\n",
    "print(\"sumFISHERS = \", sumFISHERS)"
   ]
  },
  {
   "cell_type": "markdown",
   "id": "8d53251f",
   "metadata": {},
   "source": [
    "### Считаем для выборок с сильным шумом $\\sigma = 0.5$"
   ]
  },
  {
   "cell_type": "code",
   "execution_count": 80,
   "id": "dd918c18",
   "metadata": {},
   "outputs": [],
   "source": [
    "benchmark = skdim.datasets.BenchmarkManifolds(random_state=0)\n",
    "dict_data = benchmark.generate(noise=0.5)"
   ]
  },
  {
   "cell_type": "code",
   "execution_count": 81,
   "id": "06931b48",
   "metadata": {},
   "outputs": [
    {
     "name": "stdout",
     "output_type": "stream",
     "text": [
      "1111111111 10 10.992676799155806 8.676923076923076\n",
      "1111111111 3 2.669304992020083 3.0040983606557377\n",
      "1111111111 4 2.970869208083913 4.189542483660131\n",
      "1111111111 4 6.698124754129309 5.32\n",
      "1111111111 2 2.6853025032460622 2.0\n",
      "1111111111 6 9.065491544199551 15.292817679558011\n",
      "1111111111 2 2.8919267147759067 1.6296296296296295\n",
      "1111111111 12 18.373980026116318 28.912408759124087\n",
      "1111111111 20 18.79674760702822 14.964285714285714\n",
      "1111111111 10 10.644455634329049 8.212121212121213\n",
      "1111111111 17 17.494665058932938 14.0\n",
      "1111111111 24 25.303074474605033 18.694736842105264\n",
      "1111111111 70 70.34360328922374 48.625\n",
      "1111111111 2 2.3038790965504266 2.0\n",
      "1111111111 20 20.119889163234813 14.99056603773585\n",
      "1111111111 2 2.4366884856694107 2.0\n",
      "1111111111 10 15.45038913046026 24.785714285714285\n",
      "1111111111 18 18.72991429014559 37.316326530612244\n",
      "1111111111 24 25.45564416684319 49.62637362637363\n",
      "1111111111 3 0.9157564676556983 7.901408450704225\n"
     ]
    }
   ],
   "source": [
    "ans3 = []\n",
    "for name in names:\n",
    "    cur = []\n",
    "    cur.append(name)\n",
    "    cur.append(truth['Intrinsic Dimension'][name])\n",
    "    cur.append(truth['Number of variables'][name])\n",
    "    cur.append(truth['Description'][name])\n",
    "    n1 = FisherS_n(dict_data[name])\n",
    "    n2 = cPCA_n(dict_data[name])\n",
    "    cur.append(n1)\n",
    "    cur.append(n2)\n",
    "    print(' ', end='')\n",
    "    print(truth['Intrinsic Dimension'][name], n1, n2)\n",
    "    ans3.append(cur)"
   ]
  },
  {
   "cell_type": "code",
   "execution_count": 82,
   "id": "097841d3",
   "metadata": {},
   "outputs": [
    {
     "name": "stdout",
     "output_type": "stream",
     "text": [
      "M1_Sphere & 2500 & 10 & 11 & 10.99 & 8.68\\\\\n",
      "M2_Affine_3to5 & 2500 & 3 & 5 & 2.67 & 3.0\\\\\n",
      "M3_Nonlinear_4to6 & 2500 & 4 & 6 & 2.97 & 4.19\\\\\n",
      "M4_Nonlinear & 2500 & 4 & 8 & 6.7 & 5.32\\\\\n",
      "M5b_Helix2d & 2500 & 2 & 3 & 2.69 & 2.0\\\\\n",
      "M6_Nonlinear & 2500 & 6 & 36 & 9.07 & 15.29\\\\\n",
      "M7_Roll & 2500 & 2 & 3 & 2.89 & 1.63\\\\\n",
      "M8_Nonlinear & 2500 & 12 & 72 & 18.37 & 28.91\\\\\n",
      "M9_Affine & 2500 & 20 & 20 & 18.8 & 14.96\\\\\n",
      "M10a_Cubic & 2500 & 10 & 11 & 10.64 & 8.21\\\\\n",
      "M10b_Cubic & 2500 & 17 & 18 & 17.49 & 14.0\\\\\n",
      "M10c_Cubic & 2500 & 24 & 25 & 25.3 & 18.69\\\\\n",
      "M10d_Cubic & 2500 & 70 & 71 & 70.34 & 48.62\\\\\n",
      "M11_Moebius & 2500 & 2 & 3 & 2.3 & 2.0\\\\\n",
      "M12_Norm & 2500 & 20 & 20 & 20.12 & 14.99\\\\\n",
      "M13a_Scurve & 2500 & 2 & 3 & 2.44 & 2.0\\\\\n",
      "Mbeta & 2500 & 10 & 40 & 15.45 & 24.79\\\\\n",
      "Mn1_Nonlinear & 2500 & 18 & 72 & 18.73 & 37.32\\\\\n",
      "Mn2_Nonlinear & 2500 & 24 & 96 & 25.46 & 49.63\\\\\n",
      "Mp1_Paraboloid & 2500 & 3 & 12 & 0.92 & 7.9\\\\\n"
     ]
    }
   ],
   "source": [
    "for it in ans3:\n",
    "    print(it[0], len(dict_data[it[0]]), it[1], it[2], round(it[4], 2), round(it[5], 2), sep=\" & \", end=\"\\\\\\\\\\n\")"
   ]
  },
  {
   "cell_type": "markdown",
   "id": "6602b2f9",
   "metadata": {},
   "source": [
    "### Считаем Mean%error для данных с сильным шумом"
   ]
  },
  {
   "cell_type": "code",
   "execution_count": 84,
   "id": "14759706",
   "metadata": {},
   "outputs": [
    {
     "name": "stdout",
     "output_type": "stream",
     "text": [
      "sumCPCA =  35.54748861991684\n",
      "sumFISHERS =  31.740816708706348\n"
     ]
    }
   ],
   "source": [
    "sumCPCA = 0\n",
    "sumFISHERS = 0\n",
    "for it in ans3:\n",
    "    sumCPCA += abs(it[2] - it[5]) / it[2]\n",
    "    sumFISHERS += abs(it[2] - it[4]) / it[2]\n",
    "sumCPCA *= (100 / len(full_ans))\n",
    "sumFISHERS *= (100 / len(full_ans))\n",
    "print(\"sumCPCA = \", sumCPCA)\n",
    "print(\"sumFISHERS = \", sumFISHERS)"
   ]
  },
  {
   "cell_type": "code",
   "execution_count": null,
   "id": "fa18b030",
   "metadata": {},
   "outputs": [],
   "source": []
  }
 ],
 "metadata": {
  "kernelspec": {
   "display_name": "Python 3",
   "language": "python",
   "name": "python3"
  },
  "language_info": {
   "codemirror_mode": {
    "name": "ipython",
    "version": 3
   },
   "file_extension": ".py",
   "mimetype": "text/x-python",
   "name": "python",
   "nbconvert_exporter": "python",
   "pygments_lexer": "ipython3",
   "version": "3.8.10 (default, Jun 22 2022, 20:18:18) \n[GCC 9.4.0]"
  },
  "vscode": {
   "interpreter": {
    "hash": "916dbcbb3f70747c44a77c7bcd40155683ae19c65e1c03b4aa3499c5328201f1"
   }
  }
 },
 "nbformat": 4,
 "nbformat_minor": 5
}
